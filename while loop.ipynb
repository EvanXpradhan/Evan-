{
 "cells": [
  {
   "cell_type": "code",
   "execution_count": 1,
   "id": "f37b826b",
   "metadata": {},
   "outputs": [],
   "source": [
    "# while boolean_condition:\n",
    " # do something\n",
    "# else:\n",
    " # do somethingn else"
   ]
  },
  {
   "cell_type": "code",
   "execution_count": 8,
   "id": "4565f886",
   "metadata": {},
   "outputs": [
    {
     "name": "stdout",
     "output_type": "stream",
     "text": [
      "the current value of x is 0\n",
      "the current value of x is 1\n",
      "the current value of x is 2\n",
      "the current value of x is 3\n",
      "the current value of x is 4\n",
      "x is not less than 5\n"
     ]
    }
   ],
   "source": [
    "x=0\n",
    "while x<5:\n",
    "    print(f'the current value of x is {x}')\n",
    "    x=x+1\n",
    "else:\n",
    "     print('x is not less than 5')"
   ]
  },
  {
   "cell_type": "code",
   "execution_count": null,
   "id": "e4755f45",
   "metadata": {},
   "outputs": [],
   "source": [
    "x=0\n",
    "while x<5:\n",
    "    print(f'the current value of x is {x}')\n",
    "    #x = x+1\n",
    "    x=x+1\n",
    "else:\n",
    "     print ('x is not less than 5')"
   ]
  },
  {
   "cell_type": "code",
   "execution_count": null,
   "id": "89637b94",
   "metadata": {},
   "outputs": [],
   "source": [
    "#break,continue and pass"
   ]
  },
  {
   "cell_type": "code",
   "execution_count": null,
   "id": "f2c07fbb",
   "metadata": {},
   "outputs": [],
   "source": [
    "#break: break out of the closest enclosing loop\n",
    "#continue goes to the rop of the closest enclosing loop\n",
    "#pass does nothing at all"
   ]
  },
  {
   "cell_type": "code",
   "execution_count": null,
   "id": "3d05c524",
   "metadata": {},
   "outputs": [],
   "source": [
    "x=[1,2,3]\n",
    "for item in x:\n",
    "    pass\n",
    "print (\"the end of my script\")"
   ]
  },
  {
   "cell_type": "code",
   "execution_count": null,
   "id": "dee824ba",
   "metadata": {},
   "outputs": [],
   "source": [
    "mystering =\"Evan\"\n",
    "for letter in mystering:\n",
    "    if letter =='a':\n",
    "              continue\n",
    "    print(letter)"
   ]
  },
  {
   "cell_type": "code",
   "execution_count": null,
   "id": "19225fef",
   "metadata": {},
   "outputs": [],
   "source": [
    "mystering =\"Evan\"\n",
    "for letter in mystering:\n",
    "    if letter =='a':\n",
    "        break\n",
    "        print(letter)"
   ]
  },
  {
   "cell_type": "code",
   "execution_count": null,
   "id": "eea130ae",
   "metadata": {
    "collapsed": true
   },
   "outputs": [],
   "source": []
  }
 ],
 "metadata": {
  "kernelspec": {
   "display_name": "Python 3 (ipykernel)",
   "language": "python",
   "name": "python3"
  },
  "language_info": {
   "codemirror_mode": {
    "name": "ipython",
    "version": 3
   },
   "file_extension": ".py",
   "mimetype": "text/x-python",
   "name": "python",
   "nbconvert_exporter": "python",
   "pygments_lexer": "ipython3",
   "version": "3.10.9"
  }
 },
 "nbformat": 4,
 "nbformat_minor": 5
}
