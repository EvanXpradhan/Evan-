{
 "cells": [
  {
   "cell_type": "code",
   "execution_count": 12,
   "id": "a4d18e1b",
   "metadata": {},
   "outputs": [],
   "source": [
    "x = \" hello world \""
   ]
  },
  {
   "cell_type": "code",
   "execution_count": 13,
   "id": "44a977d1",
   "metadata": {},
   "outputs": [
    {
     "data": {
      "text/plain": [
       "' hello world '"
      ]
     },
     "execution_count": 13,
     "metadata": {},
     "output_type": "execute_result"
    }
   ],
   "source": [
    "x"
   ]
  },
  {
   "cell_type": "code",
   "execution_count": 14,
   "id": "444a825e",
   "metadata": {},
   "outputs": [],
   "source": [
    "x = x + 'it is beautiful outside!'"
   ]
  },
  {
   "cell_type": "code",
   "execution_count": 15,
   "id": "d2037301",
   "metadata": {},
   "outputs": [
    {
     "data": {
      "text/plain": [
       "' hello world it is beautiful outside!'"
      ]
     },
     "execution_count": 15,
     "metadata": {},
     "output_type": "execute_result"
    }
   ],
   "source": [
    "x"
   ]
  },
  {
   "cell_type": "code",
   "execution_count": 18,
   "id": "0038ed10",
   "metadata": {},
   "outputs": [
    {
     "data": {
      "text/plain": [
       "str"
      ]
     },
     "execution_count": 18,
     "metadata": {},
     "output_type": "execute_result"
    }
   ],
   "source": [
    "type(x)"
   ]
  },
  {
   "cell_type": "code",
   "execution_count": 39,
   "id": "ec4c53af",
   "metadata": {},
   "outputs": [],
   "source": [
    "letter = \"z\" "
   ]
  },
  {
   "cell_type": "code",
   "execution_count": 22,
   "id": "78a356f1",
   "metadata": {},
   "outputs": [
    {
     "data": {
      "text/plain": [
       "'z'"
      ]
     },
     "execution_count": 22,
     "metadata": {},
     "output_type": "execute_result"
    }
   ],
   "source": [
    "letter"
   ]
  },
  {
   "cell_type": "code",
   "execution_count": 26,
   "id": "91c3d28c",
   "metadata": {},
   "outputs": [
    {
     "data": {
      "text/plain": [
       "'z10'"
      ]
     },
     "execution_count": 26,
     "metadata": {},
     "output_type": "execute_result"
    }
   ],
   "source": [
    "letter + '10'"
   ]
  },
  {
   "cell_type": "code",
   "execution_count": 27,
   "id": "94fa4894",
   "metadata": {},
   "outputs": [
    {
     "data": {
      "text/plain": [
       "' HELLO WORLD IT IS BEAUTIFUL OUTSIDE!'"
      ]
     },
     "execution_count": 27,
     "metadata": {},
     "output_type": "execute_result"
    }
   ],
   "source": [
    "x.upper()"
   ]
  },
  {
   "cell_type": "code",
   "execution_count": 28,
   "id": "4b60e9e2",
   "metadata": {},
   "outputs": [],
   "source": [
    "x = x.upper()"
   ]
  },
  {
   "cell_type": "code",
   "execution_count": 29,
   "id": "8b0fdef9",
   "metadata": {},
   "outputs": [
    {
     "data": {
      "text/plain": [
       "' HELLO WORLD IT IS BEAUTIFUL OUTSIDE!'"
      ]
     },
     "execution_count": 29,
     "metadata": {},
     "output_type": "execute_result"
    }
   ],
   "source": [
    "x"
   ]
  },
  {
   "cell_type": "code",
   "execution_count": 30,
   "id": "b9bb3d70",
   "metadata": {},
   "outputs": [
    {
     "data": {
      "text/plain": [
       "str"
      ]
     },
     "execution_count": 30,
     "metadata": {},
     "output_type": "execute_result"
    }
   ],
   "source": [
    "type(x)"
   ]
  },
  {
   "cell_type": "code",
   "execution_count": 31,
   "id": "1ec71e96",
   "metadata": {},
   "outputs": [
    {
     "data": {
      "text/plain": [
       "' hello world it is beautiful outside!'"
      ]
     },
     "execution_count": 31,
     "metadata": {},
     "output_type": "execute_result"
    }
   ],
   "source": [
    "x.lower()"
   ]
  },
  {
   "cell_type": "code",
   "execution_count": 32,
   "id": "3070c1c1",
   "metadata": {},
   "outputs": [
    {
     "data": {
      "text/plain": [
       "['HELLO', 'WORLD', 'IT', 'IS', 'BEAUTIFUL', 'OUTSIDE!']"
      ]
     },
     "execution_count": 32,
     "metadata": {},
     "output_type": "execute_result"
    }
   ],
   "source": [
    "x.split()"
   ]
  },
  {
   "cell_type": "code",
   "execution_count": 34,
   "id": "b6f3f955",
   "metadata": {},
   "outputs": [
    {
     "data": {
      "text/plain": [
       "[' HELL', ' W', 'RLD IT IS BEAUTIFUL ', 'UTSIDE!']"
      ]
     },
     "execution_count": 34,
     "metadata": {},
     "output_type": "execute_result"
    }
   ],
   "source": [
    "x.split('O')"
   ]
  },
  {
   "cell_type": "code",
   "execution_count": 35,
   "id": "e9faaecd",
   "metadata": {},
   "outputs": [],
   "source": [
    "#'string here {} {} {}' .format(something1, something2, something3)"
   ]
  },
  {
   "cell_type": "code",
   "execution_count": 36,
   "id": "622fc8f9",
   "metadata": {},
   "outputs": [
    {
     "name": "stdout",
     "output_type": "stream",
     "text": [
      "i am a student of medhavi skill university\n"
     ]
    }
   ],
   "source": [
    "print ('i am a student of {}' .format('medhavi skill university'))"
   ]
  },
  {
   "cell_type": "code",
   "execution_count": 42,
   "id": "7fded15e",
   "metadata": {},
   "outputs": [
    {
     "name": "stdout",
     "output_type": "stream",
     "text": [
      "the apple ball cat\n"
     ]
    }
   ],
   "source": [
    "print('the {a} {b} {c}' .format(a='apple',b='ball',c='cat'))"
   ]
  },
  {
   "cell_type": "code",
   "execution_count": null,
   "id": "894cfeae",
   "metadata": {},
   "outputs": [],
   "source": []
  }
 ],
 "metadata": {
  "kernelspec": {
   "display_name": "Python 3 (ipykernel)",
   "language": "python",
   "name": "python3"
  },
  "language_info": {
   "codemirror_mode": {
    "name": "ipython",
    "version": 3
   },
   "file_extension": ".py",
   "mimetype": "text/x-python",
   "name": "python",
   "nbconvert_exporter": "python",
   "pygments_lexer": "ipython3",
   "version": "3.10.9"
  }
 },
 "nbformat": 4,
 "nbformat_minor": 5
}
