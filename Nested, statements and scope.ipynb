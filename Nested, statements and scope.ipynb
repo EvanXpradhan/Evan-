{
 "cells": [
  {
   "cell_type": "markdown",
   "id": "6d32a051",
   "metadata": {},
   "source": [
    "#NESTED STATEMENT AND SCOPE"
   ]
  },
  {
   "cell_type": "code",
   "execution_count": 3,
   "id": "2ab8093c",
   "metadata": {},
   "outputs": [],
   "source": [
    "x = 25\n",
    "\n",
    "def printer():\n",
    "    x = 50\n",
    "    return x \n",
    "#print(x)\n",
    "#print(printer()):"
   ]
  },
  {
   "cell_type": "code",
   "execution_count": 5,
   "id": "db67e59b",
   "metadata": {},
   "outputs": [
    {
     "name": "stdout",
     "output_type": "stream",
     "text": [
      "25\n"
     ]
    }
   ],
   "source": [
    "print(x)"
   ]
  },
  {
   "cell_type": "code",
   "execution_count": 7,
   "id": "10e8b807",
   "metadata": {},
   "outputs": [
    {
     "name": "stdout",
     "output_type": "stream",
     "text": [
      "50\n"
     ]
    }
   ],
   "source": [
    "print(printer())"
   ]
  },
  {
   "cell_type": "code",
   "execution_count": 8,
   "id": "330691ef",
   "metadata": {},
   "outputs": [],
   "source": [
    "# x is local here:\n",
    "f = lambda x:x**2"
   ]
  },
  {
   "cell_type": "code",
   "execution_count": 15,
   "id": "3b90e28c",
   "metadata": {},
   "outputs": [],
   "source": [
    "name = 'This is a global name'\n",
    "\n",
    "def greet():\n",
    "    #enclosing function\n",
    "    name = ' sammy '\n",
    "    \n",
    "    def hello():\n",
    "        print('Hello'+ name)\n",
    "        \n",
    "    hello()"
   ]
  },
  {
   "cell_type": "code",
   "execution_count": 16,
   "id": "2800c030",
   "metadata": {},
   "outputs": [
    {
     "name": "stdout",
     "output_type": "stream",
     "text": [
      "Hello sammy \n"
     ]
    }
   ],
   "source": [
    "greet()"
   ]
  },
  {
   "cell_type": "code",
   "execution_count": 17,
   "id": "dde86a9d",
   "metadata": {},
   "outputs": [
    {
     "name": "stdout",
     "output_type": "stream",
     "text": [
      "This is a global name\n"
     ]
    }
   ],
   "source": [
    "print(name)"
   ]
  },
  {
   "cell_type": "code",
   "execution_count": 18,
   "id": "bb12c7a8",
   "metadata": {},
   "outputs": [
    {
     "data": {
      "text/plain": [
       "<function len(obj, /)>"
      ]
     },
     "execution_count": 18,
     "metadata": {},
     "output_type": "execute_result"
    }
   ],
   "source": [
    "len"
   ]
  },
  {
   "cell_type": "code",
   "execution_count": 6,
   "id": "7087e50f",
   "metadata": {},
   "outputs": [
    {
     "name": "stdout",
     "output_type": "stream",
     "text": [
      "x is 100\n",
      "changed local x to 5\n",
      "x is still 100\n"
     ]
    }
   ],
   "source": [
    "x = 100\n",
    "def func(x):\n",
    "    print ('x is', x)\n",
    "    x = 5\n",
    "    print('changed local x to', x)\n",
    "func(x)\n",
    "print('x is still', x)"
   ]
  },
  {
   "cell_type": "code",
   "execution_count": null,
   "id": "82bd4d15",
   "metadata": {},
   "outputs": [],
   "source": [
    "x = 100"
   ]
  },
  {
   "cell_type": "code",
   "execution_count": null,
   "id": "96465173",
   "metadata": {},
   "outputs": [],
   "source": []
  }
 ],
 "metadata": {
  "kernelspec": {
   "display_name": "Python 3 (ipykernel)",
   "language": "python",
   "name": "python3"
  },
  "language_info": {
   "codemirror_mode": {
    "name": "ipython",
    "version": 3
   },
   "file_extension": ".py",
   "mimetype": "text/x-python",
   "name": "python",
   "nbconvert_exporter": "python",
   "pygments_lexer": "ipython3",
   "version": "3.10.9"
  }
 },
 "nbformat": 4,
 "nbformat_minor": 5
}
