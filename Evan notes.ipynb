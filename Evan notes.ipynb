{
 "cells": [
  {
   "cell_type": "code",
   "execution_count": 12,
   "id": "38f29d03",
   "metadata": {},
   "outputs": [],
   "source": [
    "x = \" hello world \""
   ]
  },
  {
   "cell_type": "code",
   "execution_count": 13,
   "id": "a2caed7f",
   "metadata": {},
   "outputs": [
    {
     "data": {
      "text/plain": [
       "' hello world '"
      ]
     },
     "execution_count": 13,
     "metadata": {},
     "output_type": "execute_result"
    }
   ],
   "source": [
    "x"
   ]
  },
  {
   "cell_type": "code",
   "execution_count": 14,
   "id": "93947be3",
   "metadata": {},
   "outputs": [],
   "source": [
    "x = x + 'it is beautiful outside!'"
   ]
  },
  {
   "cell_type": "code",
   "execution_count": 15,
   "id": "b9cc71ae",
   "metadata": {},
   "outputs": [
    {
     "data": {
      "text/plain": [
       "' hello world it is beautiful outside!'"
      ]
     },
     "execution_count": 15,
     "metadata": {},
     "output_type": "execute_result"
    }
   ],
   "source": [
    "x"
   ]
  },
  {
   "cell_type": "code",
   "execution_count": 18,
   "id": "c26ae662",
   "metadata": {},
   "outputs": [
    {
     "data": {
      "text/plain": [
       "str"
      ]
     },
     "execution_count": 18,
     "metadata": {},
     "output_type": "execute_result"
    }
   ],
   "source": [
    "type(x)"
   ]
  },
  {
   "cell_type": "code",
   "execution_count": 39,
   "id": "97525686",
   "metadata": {},
   "outputs": [],
   "source": [
    "letter = \"z\" "
   ]
  },
  {
   "cell_type": "code",
   "execution_count": 22,
   "id": "98c1f71f",
   "metadata": {},
   "outputs": [
    {
     "data": {
      "text/plain": [
       "'z'"
      ]
     },
     "execution_count": 22,
     "metadata": {},
     "output_type": "execute_result"
    }
   ],
   "source": [
    "letter"
   ]
  },
  {
   "cell_type": "code",
   "execution_count": 26,
   "id": "2e17ecd4",
   "metadata": {},
   "outputs": [
    {
     "data": {
      "text/plain": [
       "'z10'"
      ]
     },
     "execution_count": 26,
     "metadata": {},
     "output_type": "execute_result"
    }
   ],
   "source": [
    "letter + '10'"
   ]
  },
  {
   "cell_type": "code",
   "execution_count": 27,
   "id": "7fb4a042",
   "metadata": {},
   "outputs": [
    {
     "data": {
      "text/plain": [
       "' HELLO WORLD IT IS BEAUTIFUL OUTSIDE!'"
      ]
     },
     "execution_count": 27,
     "metadata": {},
     "output_type": "execute_result"
    }
   ],
   "source": [
    "x.upper()"
   ]
  },
  {
   "cell_type": "code",
   "execution_count": 28,
   "id": "0de06e9c",
   "metadata": {},
   "outputs": [],
   "source": [
    "x = x.upper()"
   ]
  },
  {
   "cell_type": "code",
   "execution_count": 29,
   "id": "0ed524df",
   "metadata": {},
   "outputs": [
    {
     "data": {
      "text/plain": [
       "' HELLO WORLD IT IS BEAUTIFUL OUTSIDE!'"
      ]
     },
     "execution_count": 29,
     "metadata": {},
     "output_type": "execute_result"
    }
   ],
   "source": [
    "x"
   ]
  },
  {
   "cell_type": "code",
   "execution_count": 30,
   "id": "40dce69f",
   "metadata": {},
   "outputs": [
    {
     "data": {
      "text/plain": [
       "str"
      ]
     },
     "execution_count": 30,
     "metadata": {},
     "output_type": "execute_result"
    }
   ],
   "source": [
    "type(x)"
   ]
  },
  {
   "cell_type": "code",
   "execution_count": 31,
   "id": "f71d866b",
   "metadata": {},
   "outputs": [
    {
     "data": {
      "text/plain": [
       "' hello world it is beautiful outside!'"
      ]
     },
     "execution_count": 31,
     "metadata": {},
     "output_type": "execute_result"
    }
   ],
   "source": [
    "x.lower()"
   ]
  },
  {
   "cell_type": "code",
   "execution_count": 32,
   "id": "76ec2d7e",
   "metadata": {},
   "outputs": [
    {
     "data": {
      "text/plain": [
       "['HELLO', 'WORLD', 'IT', 'IS', 'BEAUTIFUL', 'OUTSIDE!']"
      ]
     },
     "execution_count": 32,
     "metadata": {},
     "output_type": "execute_result"
    }
   ],
   "source": [
    "x.split()"
   ]
  },
  {
   "cell_type": "code",
   "execution_count": 34,
   "id": "74059f53",
   "metadata": {},
   "outputs": [
    {
     "data": {
      "text/plain": [
       "[' HELL', ' W', 'RLD IT IS BEAUTIFUL ', 'UTSIDE!']"
      ]
     },
     "execution_count": 34,
     "metadata": {},
     "output_type": "execute_result"
    }
   ],
   "source": [
    "x.split('O')"
   ]
  },
  {
   "cell_type": "code",
   "execution_count": 35,
   "id": "d1f6f059",
   "metadata": {},
   "outputs": [],
   "source": [
    "#'string here {} {} {}' .format(something1, something2, something3)"
   ]
  },
  {
   "cell_type": "code",
   "execution_count": 36,
   "id": "576d4ec8",
   "metadata": {},
   "outputs": [
    {
     "name": "stdout",
     "output_type": "stream",
     "text": [
      "i am a student of medhavi skill university\n"
     ]
    }
   ],
   "source": [
    "print ('i am a student of {}' .format('medhavi skill university'))"
   ]
  },
  {
   "cell_type": "code",
   "execution_count": 42,
   "id": "f91d5aa1",
   "metadata": {},
   "outputs": [
    {
     "name": "stdout",
     "output_type": "stream",
     "text": [
      "the apple ball cat\n"
     ]
    }
   ],
   "source": [
    "print('the {a} {b} {c}' .format(a='apple',b='ball',c='cat'))"
   ]
  },
  {
   "cell_type": "code",
   "execution_count": null,
   "id": "309de1d9",
   "metadata": {},
   "outputs": [],
   "source": []
  }
 ],
 "metadata": {
  "kernelspec": {
   "display_name": "Python 3 (ipykernel)",
   "language": "python",
   "name": "python3"
  },
  "language_info": {
   "codemirror_mode": {
    "name": "ipython",
    "version": 3
   },
   "file_extension": ".py",
   "mimetype": "text/x-python",
   "name": "python",
   "nbconvert_exporter": "python",
   "pygments_lexer": "ipython3",
   "version": "3.10.9"
  }
 },
 "nbformat": 4,
 "nbformat_minor": 5
}
