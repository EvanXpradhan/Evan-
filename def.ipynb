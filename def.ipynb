{
 "cells": [
  {
   "cell_type": "code",
   "execution_count": 3,
   "id": "407944fb",
   "metadata": {},
   "outputs": [],
   "source": [
    "def myfunc(name):\n",
    "    print('my name is {}'.format(name))"
   ]
  },
  {
   "cell_type": "code",
   "execution_count": 4,
   "id": "31837221",
   "metadata": {},
   "outputs": [
    {
     "name": "stdout",
     "output_type": "stream",
     "text": [
      "my name is Evan\n"
     ]
    }
   ],
   "source": [
    "myfunc('Evan')"
   ]
  },
  {
   "cell_type": "code",
   "execution_count": 5,
   "id": "57658785",
   "metadata": {},
   "outputs": [],
   "source": [
    "def myfunc():\n",
    "    print('Hello World')"
   ]
  },
  {
   "cell_type": "code",
   "execution_count": 6,
   "id": "28a2b1a9",
   "metadata": {},
   "outputs": [
    {
     "name": "stdout",
     "output_type": "stream",
     "text": [
      "Hello World\n"
     ]
    }
   ],
   "source": [
    "myfunc()"
   ]
  },
  {
   "cell_type": "code",
   "execution_count": 7,
   "id": "affc316a",
   "metadata": {},
   "outputs": [],
   "source": [
    "def myfunc():\n",
    "    print('my name is {}'.format('Evan Pradhan'))"
   ]
  },
  {
   "cell_type": "code",
   "execution_count": 9,
   "id": "7fe5625b",
   "metadata": {},
   "outputs": [
    {
     "name": "stdout",
     "output_type": "stream",
     "text": [
      "my name is Evan Pradhan\n"
     ]
    }
   ],
   "source": [
    "myfunc()"
   ]
  },
  {
   "cell_type": "code",
   "execution_count": 16,
   "id": "c836ee5d",
   "metadata": {},
   "outputs": [],
   "source": [
    "def myfunc(a):\n",
    "    if a==True:\n",
    "        return 'inside'\n",
    "    elif a== False:\n",
    "        return 'outside'"
   ]
  },
  {
   "cell_type": "code",
   "execution_count": 18,
   "id": "2ebab06a",
   "metadata": {},
   "outputs": [
    {
     "data": {
      "text/plain": [
       "'outside'"
      ]
     },
     "execution_count": 18,
     "metadata": {},
     "output_type": "execute_result"
    }
   ],
   "source": [
    "myfunc(False)"
   ]
  },
  {
   "cell_type": "code",
   "execution_count": 19,
   "id": "d765b72e",
   "metadata": {},
   "outputs": [],
   "source": [
    "def myfunc(a,b,c):\n",
    "    if c== True:\n",
    "        return a \n",
    "    else:\n",
    "        return b"
   ]
  },
  {
   "cell_type": "code",
   "execution_count": 21,
   "id": "d0f2b11b",
   "metadata": {},
   "outputs": [
    {
     "data": {
      "text/plain": [
       "'Goodbye'"
      ]
     },
     "execution_count": 21,
     "metadata": {},
     "output_type": "execute_result"
    }
   ],
   "source": [
    "myfunc('Hello','Goodbye','False')"
   ]
  },
  {
   "cell_type": "code",
   "execution_count": 25,
   "id": "7bc6fa3a",
   "metadata": {},
   "outputs": [],
   "source": [
    "def myfunc(a,b):\n",
    "    return a*b"
   ]
  },
  {
   "cell_type": "code",
   "execution_count": 27,
   "id": "d1f26b8d",
   "metadata": {},
   "outputs": [
    {
     "data": {
      "text/plain": [
       "25"
      ]
     },
     "execution_count": 27,
     "metadata": {},
     "output_type": "execute_result"
    }
   ],
   "source": [
    "myfunc(5,5)"
   ]
  },
  {
   "cell_type": "code",
   "execution_count": 28,
   "id": "a0b5d4fa",
   "metadata": {},
   "outputs": [],
   "source": [
    "def is_evenly_divisable_by_3(n):\n",
    "    if n%3 ==0:\n",
    "        return True\n",
    "    else:\n",
    "        return False"
   ]
  },
  {
   "cell_type": "code",
   "execution_count": 31,
   "id": "ee178d27",
   "metadata": {},
   "outputs": [
    {
     "data": {
      "text/plain": [
       "True"
      ]
     },
     "execution_count": 31,
     "metadata": {},
     "output_type": "execute_result"
    }
   ],
   "source": [
    "is_evenly_divisable_by_3(15)"
   ]
  },
  {
   "cell_type": "code",
   "execution_count": 37,
   "id": "d1e7998c",
   "metadata": {},
   "outputs": [],
   "source": [
    "def is_less(a,b):\n",
    "    if a>b:\n",
    "        return True\n",
    "    else:\n",
    "        return False"
   ]
  },
  {
   "cell_type": "code",
   "execution_count": 39,
   "id": "d61156db",
   "metadata": {
    "scrolled": true
   },
   "outputs": [
    {
     "data": {
      "text/plain": [
       "True"
      ]
     },
     "execution_count": 39,
     "metadata": {},
     "output_type": "execute_result"
    }
   ],
   "source": [
    "is_less(10,5)"
   ]
  },
  {
   "cell_type": "code",
   "execution_count": 15,
   "id": "8c4c7b7a",
   "metadata": {},
   "outputs": [],
   "source": [
    "#exercise"
   ]
  },
  {
   "cell_type": "code",
   "execution_count": 41,
   "id": "46e5c8eb",
   "metadata": {},
   "outputs": [],
   "source": [
    "def myfunc(*args):\n",
    "    return len(args)"
   ]
  },
  {
   "cell_type": "code",
   "execution_count": 43,
   "id": "f29281d4",
   "metadata": {},
   "outputs": [
    {
     "data": {
      "text/plain": [
       "3"
      ]
     },
     "execution_count": 43,
     "metadata": {},
     "output_type": "execute_result"
    }
   ],
   "source": [
    "myfunc(2,3,4)"
   ]
  },
  {
   "cell_type": "code",
   "execution_count": 14,
   "id": "2071eafe",
   "metadata": {},
   "outputs": [
    {
     "data": {
      "text/plain": [
       "[2, 4, 6, 8]"
      ]
     },
     "execution_count": 14,
     "metadata": {},
     "output_type": "execute_result"
    }
   ],
   "source": [
    "def my_even(*args):\n",
    "    mylist = []\n",
    "    for number in args:\n",
    "        if number%2 ==0:\n",
    "            mylist.append(number)\n",
    "        else:\n",
    "            pass\n",
    "    return mylist\n",
    "my_even(1,2,3,4,5,6,7,8)"
   ]
  },
  {
   "cell_type": "code",
   "execution_count": 6,
   "id": "b0f38b76",
   "metadata": {},
   "outputs": [],
   "source": [
    "def mystrfunc(inputstring):\n",
    "    outstring = ''\n",
    "    for item in range(len(inputstring)):\n",
    "        if item%2 == 0:\n",
    "            outstring += inputstring[item].lower()\n",
    "        else:\n",
    "            outstring += inputstring[item].upper()\n",
    "    return outstring"
   ]
  },
  {
   "cell_type": "code",
   "execution_count": 10,
   "id": "9b10dfb6",
   "metadata": {},
   "outputs": [
    {
     "data": {
      "text/plain": [
       "'aNtHrOpOmOrPhIsM'"
      ]
     },
     "execution_count": 10,
     "metadata": {},
     "output_type": "execute_result"
    }
   ],
   "source": [
    "mystrfunc('Anthropomorphism')"
   ]
  },
  {
   "cell_type": "code",
   "execution_count": null,
   "id": "e9d320ab",
   "metadata": {},
   "outputs": [],
   "source": []
  }
 ],
 "metadata": {
  "kernelspec": {
   "display_name": "Python 3 (ipykernel)",
   "language": "python",
   "name": "python3"
  },
  "language_info": {
   "codemirror_mode": {
    "name": "ipython",
    "version": 3
   },
   "file_extension": ".py",
   "mimetype": "text/x-python",
   "name": "python",
   "nbconvert_exporter": "python",
   "pygments_lexer": "ipython3",
   "version": "3.10.9"
  }
 },
 "nbformat": 4,
 "nbformat_minor": 5
}
