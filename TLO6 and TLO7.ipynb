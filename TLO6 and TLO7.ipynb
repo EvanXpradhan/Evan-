{
 "cells": [
  {
   "cell_type": "markdown",
   "id": "1877ab74",
   "metadata": {},
   "source": [
    "Exercise 1: Create a function to find the square of a number\n",
    "1. Define a function name square_number that accpepts a single argument called num.\n",
    "2. Inside the functioin, calculate the square of the given number by multiplying num by itself.\n",
    "3. Return the calculated square.\n",
    "4. Call the function with a number and print the result."
   ]
  },
  {
   "cell_type": "code",
   "execution_count": 8,
   "id": "018a07cd",
   "metadata": {},
   "outputs": [
    {
     "name": "stdout",
     "output_type": "stream",
     "text": [
      "The square of 5 is 25.\n"
     ]
    }
   ],
   "source": [
    "def square_number(num):\n",
    "  squared = num*num\n",
    "  return squared \n",
    "number = 5\n",
    "result = square_number(number)\n",
    "print(f\"The square of {number} is {result}.\")"
   ]
  },
  {
   "cell_type": "markdown",
   "id": "d4eeb47b",
   "metadata": {},
   "source": [
    "Explanation:\n",
    "We define the square_number function with a single parameter num.\n",
    "We calculate the square of the number by multiplying num by itself and store the result in the squared variable.\n",
    "We use the return keyword to send the result back to the caller.\n",
    "We call the function with a number (in this case, 5) and store the result in the result variable.\n",
    "We print the result using an f-string.\n"
   ]
  },
  {
   "cell_type": "markdown",
   "id": "ddab906b",
   "metadata": {},
   "source": [
    "Exercise 2: Create a function to check if a string is a palindrome\n",
    "Define a function named is_palindrome that accepts a single argument called word.\n",
    "Inside the function, convert the word to lowercase using the lower() method.\n",
    "Check if the word is equal to its reverse. You can reverse the word using slicing with word[::-1].\n",
    "Return True if the word is a palindrome, and False otherwise.\n",
    "Call the function with a word and print the result.\n"
   ]
  },
  {
   "cell_type": "code",
   "execution_count": 8,
   "id": "489fe437",
   "metadata": {},
   "outputs": [
    {
     "name": "stdout",
     "output_type": "stream",
     "text": [
      "Is Racecar a palindrome? True\n"
     ]
    }
   ],
   "source": [
    "def is_palindrome(word):\n",
    "    word=word.lower()\n",
    "    return word==word[::-1]\n",
    "test_word= \"Racecar\"\n",
    "result= is_palindrome(test_word)\n",
    "print(f\"Is {test_word} a palindrome? {result}\")"
   ]
  },
  {
   "cell_type": "markdown",
   "id": "850481e0",
   "metadata": {},
   "source": [
    "Explanation:\n",
    "We define the is_palindrome function with a single parameter word.\n",
    "We convert the word to lowercase using the lower() method.\n",
    "We check if the word is equal to its reverse using slicing with word[::-1].\n",
    "We return True if the word is a palindrome, and False otherwise.\n",
    "We call the function with a word (in this case, \"Racecar\") and store the result in the result variable.\n",
    "We print the result using an f-string.\n"
   ]
  },
  {
   "cell_type": "code",
   "execution_count": null,
   "id": "fd683294",
   "metadata": {},
   "outputs": [],
   "source": []
  }
 ],
 "metadata": {
  "kernelspec": {
   "display_name": "Python 3 (ipykernel)",
   "language": "python",
   "name": "python3"
  },
  "language_info": {
   "codemirror_mode": {
    "name": "ipython",
    "version": 3
   },
   "file_extension": ".py",
   "mimetype": "text/x-python",
   "name": "python",
   "nbconvert_exporter": "python",
   "pygments_lexer": "ipython3",
   "version": "3.10.9"
  }
 },
 "nbformat": 4,
 "nbformat_minor": 5
}
